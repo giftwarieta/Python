{
 "cells": [
  {
   "cell_type": "markdown",
   "id": "50b61df7",
   "metadata": {},
   "source": [
    "# SIMPLE STATISTICS WITH PYTHON BY: GIFT WARIETA"
   ]
  },
{
 "cells": [
  {
   "cell_type": "markdown",
   "id": "50b61df7",
   "metadata": {},
   "source": [
    "# Importing my required Libraries"
   ]
  },
  {
   "cell_type": "code",
   "execution_count": 1,
   "id": "efe3c8a6",
   "metadata": {},
   "outputs": [],
   "source": [
    "import numpy as np\n",
    "import pandas as pd"
   ]
  },
  {
   "cell_type": "markdown",
   "id": "38eba09e",
   "metadata": {},
   "source": [
    "# Creating my dataset disctionary"
   ]
  },
  {
   "cell_type": "code",
   "execution_count": 2,
   "id": "3971429e",
   "metadata": {},
   "outputs": [],
   "source": [
    "y = {'Company':['Facebook','Google','Facebook','Amazon','Amazon','Facebook','Google'], 'Person':['Gift Warieta','Ngozi Nathan','Bisi Aliyu','Tigho Martey','Atiku Bakare','Moses Clam','John Wick'], 'Monthly Salary':[951000,656000,350200,750000,290000,512000,43500]}"
   ]
  },
  {
   "cell_type": "code",
   "execution_count": 3,
   "id": "9f702799",
   "metadata": {},
   "outputs": [],
   "source": [
    "new_data = pd.DataFrame(y)"
   ]
  },
  {
   "cell_type": "code",
   "execution_count": 4,
   "id": "a298c6b5",
   "metadata": {},
   "outputs": [
    {
     "data": {
      "text/html": [
       "<div>\n",
       "<style scoped>\n",
       "    .dataframe tbody tr th:only-of-type {\n",
       "        vertical-align: middle;\n",
       "    }\n",
       "\n",
       "    .dataframe tbody tr th {\n",
       "        vertical-align: top;\n",
       "    }\n",
       "\n",
       "    .dataframe thead th {\n",
       "        text-align: right;\n",
       "    }\n",
       "</style>\n",
       "<table border=\"1\" class=\"dataframe\">\n",
       "  <thead>\n",
       "    <tr style=\"text-align: right;\">\n",
       "      <th></th>\n",
       "      <th>Company</th>\n",
       "      <th>Person</th>\n",
       "      <th>Monthly Salary</th>\n",
       "    </tr>\n",
       "  </thead>\n",
       "  <tbody>\n",
       "    <tr>\n",
       "      <th>0</th>\n",
       "      <td>Facebook</td>\n",
       "      <td>Gift Warieta</td>\n",
       "      <td>951000</td>\n",
       "    </tr>\n",
       "    <tr>\n",
       "      <th>1</th>\n",
       "      <td>Google</td>\n",
       "      <td>Ngozi Nathan</td>\n",
       "      <td>656000</td>\n",
       "    </tr>\n",
       "    <tr>\n",
       "      <th>2</th>\n",
       "      <td>Facebook</td>\n",
       "      <td>Bisi Aliyu</td>\n",
       "      <td>350200</td>\n",
       "    </tr>\n",
       "    <tr>\n",
       "      <th>3</th>\n",
       "      <td>Amazon</td>\n",
       "      <td>Tigho Martey</td>\n",
       "      <td>750000</td>\n",
       "    </tr>\n",
       "    <tr>\n",
       "      <th>4</th>\n",
       "      <td>Amazon</td>\n",
       "      <td>Atiku Bakare</td>\n",
       "      <td>290000</td>\n",
       "    </tr>\n",
       "    <tr>\n",
       "      <th>5</th>\n",
       "      <td>Facebook</td>\n",
       "      <td>Moses Clam</td>\n",
       "      <td>512000</td>\n",
       "    </tr>\n",
       "    <tr>\n",
       "      <th>6</th>\n",
       "      <td>Google</td>\n",
       "      <td>John Wick</td>\n",
       "      <td>43500</td>\n",
       "    </tr>\n",
       "  </tbody>\n",
       "</table>\n",
       "</div>"
      ],
      "text/plain": [
       "    Company        Person  Monthly Salary\n",
       "0  Facebook  Gift Warieta          951000\n",
       "1    Google  Ngozi Nathan          656000\n",
       "2  Facebook    Bisi Aliyu          350200\n",
       "3    Amazon  Tigho Martey          750000\n",
       "4    Amazon  Atiku Bakare          290000\n",
       "5  Facebook    Moses Clam          512000\n",
       "6    Google     John Wick           43500"
      ]
     },
     "execution_count": 4,
     "metadata": {},
     "output_type": "execute_result"
    }
   ],
   "source": [
    "new_data"
   ]
  },
  {
   "cell_type": "markdown",
   "id": "1911dba3",
   "metadata": {},
   "source": [
    "# Grouping dataset by Company"
   ]
  },
  {
   "cell_type": "code",
   "execution_count": 5,
   "id": "60e99b5e",
   "metadata": {},
   "outputs": [
    {
     "data": {
      "text/plain": [
       "<pandas.core.groupby.generic.DataFrameGroupBy object at 0x00000254F2631820>"
      ]
     },
     "execution_count": 5,
     "metadata": {},
     "output_type": "execute_result"
    }
   ],
   "source": [
    "new_data.groupby('Company')"
   ]
  },
  {
   "cell_type": "markdown",
   "id": "ab0dca6e",
   "metadata": {},
   "source": [
    "# Statistical Calculation"
   ]
  },
  {
   "cell_type": "code",
   "execution_count": 6,
   "id": "23005095",
   "metadata": {},
   "outputs": [
    {
     "data": {
      "text/plain": [
       "951000"
      ]
     },
     "execution_count": 6,
     "metadata": {},
     "output_type": "execute_result"
    }
   ],
   "source": [
    "new_data.max().loc['Monthly Salary'] #Maximum salary"
   ]
  },
  {
   "cell_type": "code",
   "execution_count": 7,
   "id": "07d9faa3",
   "metadata": {},
   "outputs": [
    {
     "data": {
      "text/plain": [
       "43500"
      ]
     },
     "execution_count": 7,
     "metadata": {},
     "output_type": "execute_result"
    }
   ],
   "source": [
    "new_data.min().loc['Monthly Salary'] #Minimum salary"
   ]
  },
  {
   "cell_type": "code",
   "execution_count": 8,
   "id": "f40f0327",
   "metadata": {},
   "outputs": [
    {
     "data": {
      "text/html": [
       "<div>\n",
       "<style scoped>\n",
       "    .dataframe tbody tr th:only-of-type {\n",
       "        vertical-align: middle;\n",
       "    }\n",
       "\n",
       "    .dataframe tbody tr th {\n",
       "        vertical-align: top;\n",
       "    }\n",
       "\n",
       "    .dataframe thead th {\n",
       "        text-align: right;\n",
       "    }\n",
       "</style>\n",
       "<table border=\"1\" class=\"dataframe\">\n",
       "  <thead>\n",
       "    <tr style=\"text-align: right;\">\n",
       "      <th></th>\n",
       "      <th>Monthly Salary</th>\n",
       "    </tr>\n",
       "    <tr>\n",
       "      <th>Company</th>\n",
       "      <th></th>\n",
       "    </tr>\n",
       "  </thead>\n",
       "  <tbody>\n",
       "    <tr>\n",
       "      <th>Amazon</th>\n",
       "      <td>325269.119346</td>\n",
       "    </tr>\n",
       "    <tr>\n",
       "      <th>Facebook</th>\n",
       "      <td>310875.344793</td>\n",
       "    </tr>\n",
       "    <tr>\n",
       "      <th>Google</th>\n",
       "      <td>433102.903477</td>\n",
       "    </tr>\n",
       "  </tbody>\n",
       "</table>\n",
       "</div>"
      ],
      "text/plain": [
       "          Monthly Salary\n",
       "Company                 \n",
       "Amazon     325269.119346\n",
       "Facebook   310875.344793\n",
       "Google     433102.903477"
      ]
     },
     "execution_count": 8,
     "metadata": {},
     "output_type": "execute_result"
    }
   ],
   "source": [
    "new_data.groupby('Company').std()  # Standard Deviation by Group"
   ]
  },
  {
   "cell_type": "code",
   "execution_count": 9,
   "id": "fae0f827",
   "metadata": {},
   "outputs": [
    {
     "data": {
      "text/html": [
       "<div>\n",
       "<style scoped>\n",
       "    .dataframe tbody tr th:only-of-type {\n",
       "        vertical-align: middle;\n",
       "    }\n",
       "\n",
       "    .dataframe tbody tr th {\n",
       "        vertical-align: top;\n",
       "    }\n",
       "\n",
       "    .dataframe thead th {\n",
       "        text-align: right;\n",
       "    }\n",
       "</style>\n",
       "<table border=\"1\" class=\"dataframe\">\n",
       "  <thead>\n",
       "    <tr style=\"text-align: right;\">\n",
       "      <th></th>\n",
       "      <th>Monthly Salary</th>\n",
       "    </tr>\n",
       "    <tr>\n",
       "      <th>Company</th>\n",
       "      <th></th>\n",
       "    </tr>\n",
       "  </thead>\n",
       "  <tbody>\n",
       "    <tr>\n",
       "      <th>Amazon</th>\n",
       "      <td>1040000</td>\n",
       "    </tr>\n",
       "    <tr>\n",
       "      <th>Facebook</th>\n",
       "      <td>1813200</td>\n",
       "    </tr>\n",
       "    <tr>\n",
       "      <th>Google</th>\n",
       "      <td>699500</td>\n",
       "    </tr>\n",
       "  </tbody>\n",
       "</table>\n",
       "</div>"
      ],
      "text/plain": [
       "          Monthly Salary\n",
       "Company                 \n",
       "Amazon           1040000\n",
       "Facebook         1813200\n",
       "Google            699500"
      ]
     },
     "execution_count": 9,
     "metadata": {},
     "output_type": "execute_result"
    }
   ],
   "source": [
    "new_data.groupby('Company').sum()  # Sum of Salary by Group"
   ]
  },
  {
   "cell_type": "code",
   "execution_count": 10,
   "id": "8ca490c6",
   "metadata": {},
   "outputs": [
    {
     "data": {
      "text/html": [
       "<div>\n",
       "<style scoped>\n",
       "    .dataframe tbody tr th:only-of-type {\n",
       "        vertical-align: middle;\n",
       "    }\n",
       "\n",
       "    .dataframe tbody tr th {\n",
       "        vertical-align: top;\n",
       "    }\n",
       "\n",
       "    .dataframe thead th {\n",
       "        text-align: right;\n",
       "    }\n",
       "</style>\n",
       "<table border=\"1\" class=\"dataframe\">\n",
       "  <thead>\n",
       "    <tr style=\"text-align: right;\">\n",
       "      <th></th>\n",
       "      <th>Monthly Salary</th>\n",
       "    </tr>\n",
       "    <tr>\n",
       "      <th>Company</th>\n",
       "      <th></th>\n",
       "    </tr>\n",
       "  </thead>\n",
       "  <tbody>\n",
       "    <tr>\n",
       "      <th>Amazon</th>\n",
       "      <td>520000.0</td>\n",
       "    </tr>\n",
       "    <tr>\n",
       "      <th>Facebook</th>\n",
       "      <td>604400.0</td>\n",
       "    </tr>\n",
       "    <tr>\n",
       "      <th>Google</th>\n",
       "      <td>349750.0</td>\n",
       "    </tr>\n",
       "  </tbody>\n",
       "</table>\n",
       "</div>"
      ],
      "text/plain": [
       "          Monthly Salary\n",
       "Company                 \n",
       "Amazon          520000.0\n",
       "Facebook        604400.0\n",
       "Google          349750.0"
      ]
     },
     "execution_count": 10,
     "metadata": {},
     "output_type": "execute_result"
    }
   ],
   "source": [
    "new_data.groupby('Company').mean()  # Average Salary by Group"
   ]
  },
  {
   "cell_type": "code",
   "execution_count": 11,
   "id": "73b352cf",
   "metadata": {},
   "outputs": [
    {
     "data": {
      "text/plain": [
       "Monthly Salary    1813200\n",
       "Name: Facebook, dtype: int64"
      ]
     },
     "execution_count": 11,
     "metadata": {},
     "output_type": "execute_result"
    }
   ],
   "source": [
    "new_data.groupby('Company').sum().loc['Facebook'] # Sum of Salary by Selected Company"
   ]
  },
  {
   "cell_type": "markdown",
   "id": "fb78b3e1",
   "metadata": {},
   "source": [
    "# Getting a summary descriptive analysis of a dataset using Describe function"
   ]
  },
  {
   "cell_type": "code",
   "execution_count": 12,
   "id": "8291d5d0",
   "metadata": {},
   "outputs": [
    {
     "data": {
      "text/html": [
       "<div>\n",
       "<style scoped>\n",
       "    .dataframe tbody tr th:only-of-type {\n",
       "        vertical-align: middle;\n",
       "    }\n",
       "\n",
       "    .dataframe tbody tr th {\n",
       "        vertical-align: top;\n",
       "    }\n",
       "\n",
       "    .dataframe thead tr th {\n",
       "        text-align: left;\n",
       "    }\n",
       "\n",
       "    .dataframe thead tr:last-of-type th {\n",
       "        text-align: right;\n",
       "    }\n",
       "</style>\n",
       "<table border=\"1\" class=\"dataframe\">\n",
       "  <thead>\n",
       "    <tr>\n",
       "      <th></th>\n",
       "      <th colspan=\"8\" halign=\"left\">Monthly Salary</th>\n",
       "    </tr>\n",
       "    <tr>\n",
       "      <th></th>\n",
       "      <th>count</th>\n",
       "      <th>mean</th>\n",
       "      <th>std</th>\n",
       "      <th>min</th>\n",
       "      <th>25%</th>\n",
       "      <th>50%</th>\n",
       "      <th>75%</th>\n",
       "      <th>max</th>\n",
       "    </tr>\n",
       "    <tr>\n",
       "      <th>Company</th>\n",
       "      <th></th>\n",
       "      <th></th>\n",
       "      <th></th>\n",
       "      <th></th>\n",
       "      <th></th>\n",
       "      <th></th>\n",
       "      <th></th>\n",
       "      <th></th>\n",
       "    </tr>\n",
       "  </thead>\n",
       "  <tbody>\n",
       "    <tr>\n",
       "      <th>Amazon</th>\n",
       "      <td>2.0</td>\n",
       "      <td>520000.0</td>\n",
       "      <td>325269.119346</td>\n",
       "      <td>290000.0</td>\n",
       "      <td>405000.0</td>\n",
       "      <td>520000.0</td>\n",
       "      <td>635000.0</td>\n",
       "      <td>750000.0</td>\n",
       "    </tr>\n",
       "    <tr>\n",
       "      <th>Facebook</th>\n",
       "      <td>3.0</td>\n",
       "      <td>604400.0</td>\n",
       "      <td>310875.344793</td>\n",
       "      <td>350200.0</td>\n",
       "      <td>431100.0</td>\n",
       "      <td>512000.0</td>\n",
       "      <td>731500.0</td>\n",
       "      <td>951000.0</td>\n",
       "    </tr>\n",
       "    <tr>\n",
       "      <th>Google</th>\n",
       "      <td>2.0</td>\n",
       "      <td>349750.0</td>\n",
       "      <td>433102.903477</td>\n",
       "      <td>43500.0</td>\n",
       "      <td>196625.0</td>\n",
       "      <td>349750.0</td>\n",
       "      <td>502875.0</td>\n",
       "      <td>656000.0</td>\n",
       "    </tr>\n",
       "  </tbody>\n",
       "</table>\n",
       "</div>"
      ],
      "text/plain": [
       "         Monthly Salary                                               \\\n",
       "                  count      mean            std       min       25%   \n",
       "Company                                                                \n",
       "Amazon              2.0  520000.0  325269.119346  290000.0  405000.0   \n",
       "Facebook            3.0  604400.0  310875.344793  350200.0  431100.0   \n",
       "Google              2.0  349750.0  433102.903477   43500.0  196625.0   \n",
       "\n",
       "                                        \n",
       "               50%       75%       max  \n",
       "Company                                 \n",
       "Amazon    520000.0  635000.0  750000.0  \n",
       "Facebook  512000.0  731500.0  951000.0  \n",
       "Google    349750.0  502875.0  656000.0  "
      ]
     },
     "execution_count": 12,
     "metadata": {},
     "output_type": "execute_result"
    }
   ],
   "source": [
    "new_data.groupby('Company').describe()"
   ]
  }
 ],
 "metadata": {
  "kernelspec": {
   "display_name": "Python 3 (ipykernel)",
   "language": "python",
   "name": "python3"
  },
  "language_info": {
   "codemirror_mode": {
    "name": "ipython",
    "version": 3
   },
   "file_extension": ".py",
   "mimetype": "text/x-python",
   "name": "python",
   "nbconvert_exporter": "python",
   "pygments_lexer": "ipython3",
   "version": "3.9.12"
  }
 },
 "nbformat": 4,
 "nbformat_minor": 5
}
